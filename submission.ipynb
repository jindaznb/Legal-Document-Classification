{
 "cells": [
  {
   "cell_type": "markdown",
   "metadata": {},
   "source": [
    "# Programmatically load the data into your preferred analytical environment.\n"
   ]
  },
  {
   "cell_type": "code",
   "execution_count": 10,
   "metadata": {},
   "outputs": [
    {
     "name": "stdout",
     "output_type": "stream",
     "text": [
      "Number of Documents: 18000\n",
      "Number of Postures: 27659\n",
      "Number of Paragraphs: 542169\n",
      "Number of Unique Labels (Postures): 194\n"
     ]
    }
   ],
   "source": [
    "import json\n",
    "import os\n",
    "from sklearn.model_selection import train_test_split\n",
    "from sklearn.feature_extraction.text import TfidfVectorizer\n",
    "from sklearn.linear_model import LogisticRegression\n",
    "from sklearn.metrics import classification_report, accuracy_score\n",
    "\n",
    "# Define the file path\n",
    "file_path = 'TRDataChallenge2023.txt'\n",
    "\n",
    "# Initialize counters and storage\n",
    "document_count = 0\n",
    "postures_count = 0\n",
    "paragraph_count = 0\n",
    "data = []\n",
    "unique_labels = set()  # Set to track unique labels\n",
    "\n",
    "# Load and process each line as a separate JSON object\n",
    "with open(file_path, 'r') as file:\n",
    "    for line in file:\n",
    "        # Parse each line as JSON\n",
    "        document = json.loads(line.strip())\n",
    "        \n",
    "        # Increment document count\n",
    "        document_count += 1\n",
    "        \n",
    "        # Count postures\n",
    "        postures = document.get(\"postures\", [])\n",
    "        postures_count += len(postures)\n",
    "        \n",
    "        # Count paragraphs and aggregate text for model input\n",
    "        document_text = \"\"\n",
    "        for section in document.get(\"sections\", []):\n",
    "            paragraphs = section.get(\"paragraphs\", [])\n",
    "            paragraph_count += len(paragraphs)\n",
    "            document_text += \" \".join(paragraphs)  # Aggregate paragraphs into one string per document\n",
    "        \n",
    "        # Append data with document text and labels\n",
    "        if postures:\n",
    "            label = postures[0]  # Assuming first posture as label\n",
    "            data.append((document_text, label))\n",
    "            unique_labels.add(label)  # Add label to the set of unique labels\n",
    "\n",
    "# Output data insights\n",
    "print(\"Number of Documents:\", document_count)\n",
    "print(\"Number of Postures:\", postures_count)\n",
    "print(\"Number of Paragraphs:\", paragraph_count)\n",
    "print(\"Number of Unique Labels (Postures):\", len(unique_labels))  # Count of unique labels"
   ]
  },
  {
   "cell_type": "markdown",
   "metadata": {},
   "source": [
    "# get unique label classes"
   ]
  },
  {
   "cell_type": "code",
   "execution_count": 11,
   "metadata": {},
   "outputs": [
    {
     "data": {
      "text/plain": [
       "194"
      ]
     },
     "execution_count": 11,
     "metadata": {},
     "output_type": "execute_result"
    }
   ],
   "source": [
    "NUM_CLASSES = len(unique_labels)\n",
    "NUM_CLASSES"
   ]
  },
  {
   "cell_type": "markdown",
   "metadata": {},
   "source": [
    "# Summarization frequency of labels"
   ]
  },
  {
   "cell_type": "code",
   "execution_count": 12,
   "metadata": {},
   "outputs": [
    {
     "name": "stdout",
     "output_type": "stream",
     "text": [
      "\n",
      "Label Distribution (Sorted by Frequency):\n",
      "                                             Label  Count\n",
      "0                                        On Appeal   4942\n",
      "1                                 Appellate Review   4652\n",
      "2                                Motion to Dismiss   1449\n",
      "3                Review of Administrative Decision   1395\n",
      "4                       Motion for Attorney's Fees    609\n",
      "..                                             ...    ...\n",
      "189  Motion to Serve Additional Discovery Requests      1\n",
      "190               Motion to Extend Claims Bar Date      1\n",
      "191            Petition for Divorce or Dissolution      1\n",
      "192        Declinatory Exception of Improper Venue      1\n",
      "193              Motion to Vacate Summary Judgment      1\n",
      "\n",
      "[194 rows x 2 columns]\n"
     ]
    }
   ],
   "source": [
    "import pandas as pd\n",
    "from collections import Counter \n",
    "\n",
    "# Calculate the distribution of each unique label\n",
    "label_distribution = Counter(label for _, label in data)\n",
    "\n",
    "# Create a DataFrame for better visualization\n",
    "label_df = pd.DataFrame(label_distribution.items(), columns=['Label', 'Count'])\n",
    "label_df = label_df.sort_values(by='Count', ascending=False).reset_index(drop=True)  # Sort by count\n",
    "\n",
    "# Display the label distribution table\n",
    "print(\"\\nLabel Distribution (Sorted by Frequency):\")\n",
    "print(label_df)"
   ]
  },
  {
   "cell_type": "markdown",
   "metadata": {},
   "source": [
    "- The top two labels, \"On Appeal\" (4942 instances) and \"Appellate Review\" (4652 instances), dominate the dataset. These labels represent common procedural postures in judicial opinions, which is expected given the nature of legal documents and the frequency of appeals in the legal process.\n",
    "\n",
    "- Many labels (such as \"Motion to Serve Additional Discovery Requests,\" \"Petition for Divorce or Dissolution,\" and others) appear only once in the dataset. This indicates that these postures are rarely encountered, which poses challenges for any predictive modeling efforts.\n",
    "\n",
    "- Challenges in Predicting Low-Frequency Labels: Predicting low-frequency labels presents several challenges: Insufficient Training Data, Models typically require a minimum number of examples to learn effectively. The imbalanced nature of the dataset can lead to model bias. For low-frequency labels, the model may memorize instances instead of generalizing patterns."
   ]
  },
  {
   "cell_type": "code",
   "execution_count": 32,
   "metadata": {},
   "outputs": [
    {
     "name": "stdout",
     "output_type": "stream",
     "text": [
      "\n",
      "Classes Above Various Thresholds and Reserved Documents:\n",
      "    Threshold N  Classes Above N  Documents Reserved Classes Reserved %  \\\n",
      "0             1              145               17028               74.7   \n",
      "1             2              124               16986               63.9   \n",
      "2             3              103               16923               53.1   \n",
      "3             4               86               16855               44.3   \n",
      "4             6               74               16792               38.1   \n",
      "5             8               68               16749               35.1   \n",
      "6            10               62               16693               32.0   \n",
      "7            20               50               16515               25.8   \n",
      "8            30               41               16293               21.1   \n",
      "9            50               27               15742               13.9   \n",
      "10          100               14               14797                7.2   \n",
      "11         1000                4               12438                2.1   \n",
      "\n",
      "   Documents Reserved %  \n",
      "0                  99.7  \n",
      "1                  99.5  \n",
      "2                  99.1  \n",
      "3                  98.7  \n",
      "4                  98.3  \n",
      "5                  98.1  \n",
      "6                  97.8  \n",
      "7                  96.7  \n",
      "8                  95.4  \n",
      "9                  92.2  \n",
      "10                 86.6  \n",
      "11                 72.8  \n"
     ]
    },
    {
     "data": {
      "image/png": "[encoded data removed]",
      "text/plain": [
       "<Figure size 1000x800 with 1 Axes>"
      ]
     },
     "metadata": {},
     "output_type": "display_data"
    }
   ],
   "source": [
    "import json\n",
    "import pandas as pd\n",
    "from collections import Counter \n",
    "import matplotlib.pyplot as plt\n",
    "\n",
    "# Count occurrences of each label\n",
    "label_distribution = Counter(label for _, label in data)\n",
    "\n",
    "# Create a DataFrame for better visualization\n",
    "label_df = pd.DataFrame(label_distribution.items(), columns=['Label', 'Count'])\n",
    "label_df = label_df.sort_values(by='Count', ascending=False).reset_index(drop=True)  # Sort by count\n",
    "\n",
    "# Evaluate counts above thresholds\n",
    "thresholds = [1, 2, 3, 4, 6, 8, 10, 20, 30, 50, 100, 1000]\n",
    "threshold_results = {n: (label_df['Count'] > n).sum() for n in thresholds}\n",
    "\n",
    "# Calculate the number of documents reserved for each threshold\n",
    "documents_reserved = {}\n",
    "total_documents = len(data)  # Total number of documents in the dataset\n",
    "total_classes = len(label_df)  # Total number of unique classes\n",
    "\n",
    "for n in thresholds:\n",
    "    labels_above_threshold = label_df[label_df['Count'] > n]['Label']\n",
    "    documents_reserved[n] = sum(1 for _, label in data if label in labels_above_threshold.values)\n",
    "\n",
    "# Calculate percentages\n",
    "percentage_classes_reserved = {n: (threshold_results[n] / total_classes) * 100 for n in thresholds}\n",
    "percentage_documents_reserved = {n: (documents_reserved[n] / total_documents) * 100 for n in thresholds}\n",
    "\n",
    "# Format percentages to one decimal place\n",
    "percentage_classes_reserved_formatted = {n: f\"{percentage_classes_reserved[n]:.1f}\" for n in thresholds}\n",
    "percentage_documents_reserved_formatted = {n: f\"{percentage_documents_reserved[n]:.1f}\" for n in thresholds}\n",
    "\n",
    "# Display threshold results in a DataFrame\n",
    "threshold_df = pd.DataFrame(list(threshold_results.items()), columns=['Threshold N', 'Classes Above N'])\n",
    "threshold_df['Documents Reserved'] = [documents_reserved[n] for n in thresholds]\n",
    "threshold_df['Classes Reserved %'] = [percentage_classes_reserved_formatted[n] for n in thresholds]\n",
    "threshold_df['Documents Reserved %'] = [percentage_documents_reserved_formatted[n] for n in thresholds]\n",
    "\n",
    "# Display the final threshold DataFrame\n",
    "print(\"\\nClasses Above Various Thresholds and Reserved Documents:\")\n",
    "print(threshold_df)\n",
    "\n",
    "# Plotting the results\n",
    "fig, ax = plt.subplots(figsize=(10, 8))\n",
    "ax.axis('tight')\n",
    "ax.axis('off')\n",
    "table_data = threshold_df.values\n",
    "column_labels = threshold_df.columns\n",
    "\n",
    "# Create a table plot\n",
    "ax.table(cellText=table_data, colLabels=column_labels, cellLoc='center', loc='center')\n",
    "plt.title('Threshold Evaluation and Document Counts Reserved', fontsize=14)\n",
    "plt.show()\n"
   ]
  },
  {
   "cell_type": "markdown",
   "metadata": {},
   "source": [
    "Choosing a threshold N=20 for label frequency strikes a balance between retaining sufficient classes and minimizing noise in the model."
   ]
  },
  {
   "cell_type": "markdown",
   "metadata": {},
   "source": [
    "# Preprocess: Remove labels with low frequency in dataset"
   ]
  },
  {
   "cell_type": "code",
   "execution_count": 33,
   "metadata": {},
   "outputs": [
    {
     "name": "stdout",
     "output_type": "stream",
     "text": [
      "Label Distribution: Counter({'On Appeal': 4942, 'Appellate Review': 4652, 'Motion to Dismiss': 1449, 'Review of Administrative Decision': 1395, \"Motion for Attorney's Fees\": 609, 'Motion for Preliminary Injunction': 340, 'Motion to Dismiss for Lack of Subject Matter Jurisdiction': 287, 'Motion to Compel Arbitration': 244, 'Motion for Judgment as a Matter of Law (JMOL)/Directed Verdict': 193, 'Motion for Reconsideration': 164, 'Motion to Dismiss for Lack of Personal Jurisdiction': 156, 'Motion for Default Judgment/Order of Default': 132, 'Motion for New Trial': 127, 'Motion to Dismiss for Lack of Standing': 107, 'Motion for Protective Order': 100, 'Motion for Permanent Injunction': 95, 'Motion for Contempt': 94, 'Motion to Dismiss for Lack of Jurisdiction': 93, 'Motion to Transfer or Change Venue': 76, 'Motion to Set Aside or Vacate': 74, 'Certified Question': 72, 'Sentencing or Penalty Phase Motion or Objection': 67, 'Motion for Costs': 57, 'Motion for Sanctions (Discovery)': 57, 'Motion for Restraining or Protection Order': 55, 'Application to Vacate Arbitration Award': 54, 'Motion for Relief from Order or Judgment': 51, 'Motion in Limine': 50, 'Motion for Extension of Time': 48, 'Motion to Disqualify Counsel': 46, 'Motion to Renew': 45, 'Motion to Strike All or Part of a Pleading': 44, 'Objection to Proof of Claim': 43, 'Motion to Amend Pleading (Other than Complaint or Petition)': 38, 'Motion to Exclude Expert Report or Testimony': 37, 'Motion to Stay Proceedings': 36, 'Motion for Continuance': 35, 'Post-Trial Hearing Motion': 34, 'Motion for Rehearing': 33, 'Motion to Amend': 31, 'Motion to Quash or Vacate a Subpoena': 31, 'Motion to Consolidate': 30, 'Motion for Involuntary Dismissal': 30, 'Motion to Convert or Dismiss Case': 27, 'Motion to Reargue': 25, 'Trial or Guilt Phase Motion or Objection': 23, 'Juvenile Delinquency Proceeding': 23, 'Objection to Confirmation of Plan': 22, 'Motion for Additional Discovery': 21, 'Motion to Modify Property Division Portions of Divorce or Dissolution Decree': 21, 'Bail or Custody Motion': 19, 'Motion for Relief from the Automatic Stay': 17, 'Objection to  Claimed Exemptions': 17, 'Motion to Bifurcate or Sever': 16, 'Motion to Modify or Terminate Alimony/Maintenance': 16, 'Motion to Set Aside or Vacate Dismissal': 15, \"Application for Attorneys' or Professional Fees and Expenses\": 15, 'Motion to Unseal Records': 15, 'Motion for Contempt Sanctions': 14, 'Motion to Supplement the Record': 12, 'Motion for Judgment on Administrative Record': 11, 'Motion to Modify Visitation Rights or Parenting Time': 11, 'Motion to Stay Enforcement of Judgment': 10, 'Motion for Substitution of Party': 10, 'Motion for Disbursement or Release of Funds': 9, 'Motion to Set Aside or Vacate Protective Order': 9, 'Motion for Subpoena': 9, 'Motion for Demurrer': 9, 'Motion for Prejudgment Interest': 8, 'Application to Employ Attorney or Other Professional': 7, 'Motion to Reopen Bankruptcy Case': 7, 'Motion to Strike Affirmative Defenses': 7, 'Motion For Turnover': 7, 'Motion to Tax Costs': 7, 'Motion to Strike Expert Testimony': 6, 'Motion to Appoint Guardian ad Litem': 6, 'Motion to Enforce Visitation or Parenting Time': 6, 'Motion for Non-Suit': 5, 'Motion to Strike Testimony': 5, 'Motion for Physical or Mental Examination': 5, 'Motion for Discovery Sanctions': 5, 'Motion to Use, Sell, or Lease Property Outside the Ordinary Course of Business': 5, 'Jury Selection Challenge or Motion': 5, 'Motion to Correct Order or Judgment': 5, 'Motion for Equitable Tolling': 5, 'Motion to Terminate Guardianship': 5, 'Motion for Recognition as Foreign Main or Nonmain Proceedings': 4, 'Motion to Certify Collective Action': 4, 'Motion to Vacate Order or Judgment': 4, 'Motion to Decertify Class': 4, 'Motion for Additur': 4, 'Motion for Collateral Estoppel': 4, 'Motion to Set Aside, Alter, or Modify a Decree': 4, 'Motion for Judgment on Partial Findings': 4, 'Motion to Transfer Venue Pursuant to Forum Selection Clause': 4, 'Motion to Avoid Lien on Exemption Impairment Grounds': 4, 'Motion to Quiet Title': 4, 'Motion for Evidentiary Hearing': 4, 'Motion to Confirm Plan': 4, 'Motion to Modify Joint Legal Custody': 4, 'Motion to Enforce Discharge Injunction': 4, 'Request for Entry of Default': 4, 'Motion to Conditionally Certify Collective Action': 4, 'Motion for In Camera Review': 3, 'Motion for Approval of Consent Judgment': 3, 'Motion for Independent Medical Examination (IME)': 3, 'Motion to Use Cash Collateral': 3, 'Motion for Claim Construction': 3, 'Motion to Distribute': 3, 'Motion to Abstain or for Abstention': 3, 'Petition for Custody': 3, 'Motion to Enforce Arbitration Award': 3, 'Motion for Entry of Discharge': 3, 'Juvenile Wardship Petition': 3, 'Motion for Post-Judgment Interest': 3, 'Motion to Amend Scheduling Order': 3, 'Motion to Modify Plan': 3, 'Declinatory Exception of Lack of Subject Matter Jurisdiction': 3, 'Motion to Limit Discovery': 3, 'Motion for Examination of Entity or Debtor': 3, 'Motion to Enforce Alimony/Maintenance': 3, 'Motion for Abatement': 3, 'Motion to Confirm that Stay Does Not Apply': 3, 'Motion for Remittitur': 3, 'Motion for Appeal Bond': 2, 'Motion for Restitution': 2, 'Motion to Extend Time for Discovery': 2, 'Motion to Enforce Automatic Stay': 2, 'Motion for Competency or Mental Health Evaluation': 2, 'Motion to Expedite': 2, 'Motion to Enforce Confirmation Order': 2, 'Motion for Leave to File under Seal': 2, 'Motion to Reverse and Remand': 2, 'Declinatory Exception of Lis Pendens': 2, 'Motion to Assume Executory Contract or Unexpired Lease': 2, 'Motion to Vacate or Set Aside Discharge': 2, 'Motion to Enforce Separation Agreement': 2, 'Motion for Primary Custody': 2, 'Motion for Appointment of Guardian ad Litem': 2, 'Motion to Modify or Correct Arbitration Award': 2, 'Motion to Enforce': 2, 'Motion to Terminate Child Support Payment': 2, 'Motion to Vacate Stay of State Action in Limitation of Liability Proceeding': 2, 'Motion to Modify Primary Custody': 2, 'Motion to Consolidate or for Joint Administration of Bankruptcy Cases': 2, 'Motion for Leave to File Late or Untimely Notice of Appeal': 1, 'Motion for Separate Trials': 1, 'Motion to Serve Additional Discovery Requests': 1, 'Motion to Determine Tax Liability': 1, 'Motion for Contempt for Violating Discharge Injunction or Order': 1, 'Motion to Quash or Vacate Custody Order': 1, 'Motion to Vacate Summary Judgment': 1, 'Motion to Approve Disclosure Statement': 1, 'Application for Bankruptcy Trustee Fees': 1, 'Motion to Sell Property Free and Clear of Interests': 1, 'Motion to Withdraw an Admission': 1, 'Motion to Increase/Reduce Security': 1, 'Motion to Extend Claims Bar Date': 1, 'Petition for Divorce or Dissolution': 1, 'Declinatory Exception of Improper Venue': 1, 'Motion for Bond': 1, 'Motion for Joint Custody': 1, 'Joinder': 1, 'Motion to Expand the Record': 1, 'Motion to Appoint Chapter 11 Trustee or Examiner': 1, 'Dilatory Exception of Unauthorized Use of Summary Proceeding': 1, 'Motion for Genetic Testing': 1, 'Motion to Transfer Guardianship': 1, 'Objection to Administrative Expense Claim': 1, 'Motion to Set Aside Default Judgment': 1, 'Motion to Deny Class Certification': 1, 'Motion for Adequate Protection': 1, 'Motion to Surcharge Collateral': 1, 'Motion to Withdraw Reference': 1, 'Motion for Abandonment of Property': 1, 'Motion to Decertify Collective Action': 1, 'Motion to Enforce Child Custody Decree': 1, 'Petition for Special Action': 1, 'Petition for Contempt for Failure to Pay Child Support': 1, 'Declinatory Exception of Lack of Personal Jurisdiction': 1, 'Motion for Qualified Domestic Relations Order (QDRO)': 1, 'Motion to Compel Abandonment': 1, 'Motion Authorizing and Approving Payment of Certain Prepetition Obligations': 1, 'Motion to Admonish Jury': 1, 'Petition to Terminate Parental Rights': 1, 'Motion for Appointment of an Expert': 1, 'Motion for Maritime Attachment and Garnishment': 1, 'Motion to Reinstate Visitation or Parenting Time': 1, 'Petition for Removal': 1, 'Motion to Appoint Substitute Custodian of Vessel': 1, 'Petition for Adoption': 1, 'Objection to Disclosure Statement': 1, 'Declinatory Exception of Insufficiency of Service of Process': 1, 'Motion to Allow Late Filing of Proof of Claim': 1})\n",
      "Count before removing labels with fewer than 10 instances: 17077\n",
      "Count after removing labels with fewer than 20 instances: 16515\n",
      "Percentage of data removed: 3.29%\n",
      "Percentage of data retained: 96.71%\n",
      "Number of unique classes remaining after filtering: 50\n"
     ]
    }
   ],
   "source": [
    "from collections import Counter\n",
    "\n",
    "# Count occurrences of each label\n",
    "label_counts = Counter(label for _, label in data)\n",
    "print(\"Label Distribution:\", label_counts)\n",
    "\n",
    "# Initial count of data\n",
    "before_count = len(data)\n",
    "print(f\"Count before removing labels with fewer than {min_instances} instances:\", before_count)\n",
    "\n",
    "# Set the minimum instances threshold\n",
    "min_instances = 20\n",
    "\n",
    "# Filter data based on the minimum instances\n",
    "filtered_data = [(text, label) for text, label in data if label_counts[label] >= min_instances]\n",
    "\n",
    "# Count after filtering\n",
    "after_count = len(filtered_data)\n",
    "print(f\"Count after removing labels with fewer than {min_instances} instances:\", after_count)\n",
    "\n",
    "# Calculate and print the percentages\n",
    "percentage_removed = ((before_count - after_count) / before_count) * 100\n",
    "percentage_retained = (after_count / before_count) * 100\n",
    "\n",
    "print(f\"Percentage of data removed: {percentage_removed:.2f}%\")\n",
    "print(f\"Percentage of data retained: {percentage_retained:.2f}%\")\n",
    "\n",
    "# Count the number of unique classes left after filtering\n",
    "unique_classes_remaining = len(set(label for _, label in filtered_data))\n",
    "print(f\"Number of unique classes remaining after filtering: {unique_classes_remaining}\")\n"
   ]
  },
  {
   "cell_type": "markdown",
   "metadata": {},
   "source": [
    "# train test split"
   ]
  },
  {
   "cell_type": "code",
   "execution_count": 37,
   "metadata": {},
   "outputs": [
    {
     "name": "stdout",
     "output_type": "stream",
     "text": [
      "Size of training dataset: 13212\n",
      "Size of testing dataset: 3303\n",
      "Total dataset size: 16515\n"
     ]
    }
   ],
   "source": [
    "# Prepare the data for training and testing after filtering\n",
    "texts, labels = zip(*filtered_data)  # Unzip the text and labels\n",
    "labels = list(labels)  # Convert to list for compatibility\n",
    "\n",
    "# Split the data into training and testing sets\n",
    "X_train, X_test, y_train, y_test = train_test_split(texts, labels, test_size=0.2, random_state=42, stratify=labels)\n",
    "# Print the sizes of the datasets\n",
    "print(f\"Size of training dataset: {len(X_train)}\")\n",
    "print(f\"Size of testing dataset: {len(X_test)}\")\n",
    "print(f\"Total dataset size: {len(texts)}\")"
   ]
  },
  {
   "cell_type": "code",
   "execution_count": 35,
   "metadata": {},
   "outputs": [],
   "source": [
    "# Vectorize the text data\n",
    "vectorizer = TfidfVectorizer()\n",
    "X_train_tfidf = vectorizer.fit_transform(X_train)\n",
    "X_test_tfidf = vectorizer.transform(X_test)"
   ]
  },
  {
   "cell_type": "code",
   "execution_count": 36,
   "metadata": {},
   "outputs": [
    {
     "name": "stderr",
     "output_type": "stream",
     "text": [
      "/work/van-speech-nlp/jindaznb/slamenv/lib/python3.10/site-packages/sklearn/linear_model/_logistic.py:469: ConvergenceWarning: lbfgs failed to converge (status=1):\n",
      "STOP: TOTAL NO. of ITERATIONS REACHED LIMIT.\n",
      "\n",
      "Increase the number of iterations (max_iter) or scale the data as shown in:\n",
      "    https://scikit-learn.org/stable/modules/preprocessing.html\n",
      "Please also refer to the documentation for alternative solver options:\n",
      "    https://scikit-learn.org/stable/modules/linear_model.html#logistic-regression\n",
      "  n_iter_i = _check_optimize_result(\n"
     ]
    },
    {
     "name": "stdout",
     "output_type": "stream",
     "text": [
      "Label Accuracy: 0.6010\n",
      "\n",
      "Classification Report:\n",
      "                                                                               precision    recall  f1-score   support\n",
      "\n",
      "                                                            Appellate Review       0.83      0.97      0.90       930\n",
      "                                     Application to Vacate Arbitration Award       0.00      0.00      0.00        11\n",
      "                                                          Certified Question       0.00      0.00      0.00        14\n",
      "                                             Juvenile Delinquency Proceeding       0.00      0.00      0.00         5\n",
      "                                             Motion for Additional Discovery       0.00      0.00      0.00         4\n",
      "                                                  Motion for Attorney's Fees       1.00      0.08      0.15       122\n",
      "                                                         Motion for Contempt       0.00      0.00      0.00        19\n",
      "                                                      Motion for Continuance       0.00      0.00      0.00         7\n",
      "                                                            Motion for Costs       0.00      0.00      0.00        11\n",
      "                                Motion for Default Judgment/Order of Default       0.00      0.00      0.00        27\n",
      "                                                Motion for Extension of Time       0.00      0.00      0.00        10\n",
      "                                            Motion for Involuntary Dismissal       0.00      0.00      0.00         6\n",
      "              Motion for Judgment as a Matter of Law (JMOL)/Directed Verdict       0.00      0.00      0.00        39\n",
      "                                                        Motion for New Trial       0.00      0.00      0.00        26\n",
      "                                             Motion for Permanent Injunction       0.00      0.00      0.00        19\n",
      "                                           Motion for Preliminary Injunction       0.00      0.00      0.00        68\n",
      "                                                 Motion for Protective Order       0.00      0.00      0.00        20\n",
      "                                                  Motion for Reconsideration       0.00      0.00      0.00        33\n",
      "                                                        Motion for Rehearing       0.00      0.00      0.00         7\n",
      "                                    Motion for Relief from Order or Judgment       0.00      0.00      0.00        10\n",
      "                                  Motion for Restraining or Protection Order       0.00      0.00      0.00        11\n",
      "                                            Motion for Sanctions (Discovery)       0.00      0.00      0.00        11\n",
      "                                                            Motion in Limine       0.00      0.00      0.00        10\n",
      "                                                             Motion to Amend       0.00      0.00      0.00         6\n",
      "                 Motion to Amend Pleading (Other than Complaint or Petition)       0.00      0.00      0.00         8\n",
      "                                                Motion to Compel Arbitration       0.93      0.51      0.66        49\n",
      "                                                       Motion to Consolidate       0.00      0.00      0.00         6\n",
      "                                           Motion to Convert or Dismiss Case       0.00      0.00      0.00         5\n",
      "                                                           Motion to Dismiss       0.44      0.01      0.03       290\n",
      "                                  Motion to Dismiss for Lack of Jurisdiction       0.00      0.00      0.00        19\n",
      "                         Motion to Dismiss for Lack of Personal Jurisdiction       0.00      0.00      0.00        31\n",
      "                                      Motion to Dismiss for Lack of Standing       0.00      0.00      0.00        21\n",
      "                   Motion to Dismiss for Lack of Subject Matter Jurisdiction       0.00      0.00      0.00        57\n",
      "                                                Motion to Disqualify Counsel       0.00      0.00      0.00         9\n",
      "                                Motion to Exclude Expert Report or Testimony       0.00      0.00      0.00         7\n",
      "Motion to Modify Property Division Portions of Divorce or Dissolution Decree       0.00      0.00      0.00         4\n",
      "                                        Motion to Quash or Vacate a Subpoena       0.00      0.00      0.00         6\n",
      "                                                           Motion to Reargue       0.00      0.00      0.00         5\n",
      "                                                             Motion to Renew       0.00      0.00      0.00         9\n",
      "                                               Motion to Set Aside or Vacate       0.00      0.00      0.00        15\n",
      "                                                  Motion to Stay Proceedings       0.00      0.00      0.00         7\n",
      "                                  Motion to Strike All or Part of a Pleading       0.00      0.00      0.00         9\n",
      "                                          Motion to Transfer or Change Venue       0.00      0.00      0.00        15\n",
      "                                           Objection to Confirmation of Plan       0.00      0.00      0.00         4\n",
      "                                                 Objection to Proof of Claim       0.00      0.00      0.00         9\n",
      "                                                                   On Appeal       0.46      0.85      0.59       988\n",
      "                                                   Post-Trial Hearing Motion       0.00      0.00      0.00         7\n",
      "                                           Review of Administrative Decision       0.60      0.72      0.66       279\n",
      "                             Sentencing or Penalty Phase Motion or Objection       0.00      0.00      0.00        13\n",
      "                                    Trial or Guilt Phase Motion or Objection       0.00      0.00      0.00         5\n",
      "\n",
      "                                                                    accuracy                           0.60      3303\n",
      "                                                                   macro avg       0.09      0.06      0.06      3303\n",
      "                                                                weighted avg       0.51      0.60      0.50      3303\n",
      "\n"
     ]
    },
    {
     "name": "stderr",
     "output_type": "stream",
     "text": [
      "/work/van-speech-nlp/jindaznb/slamenv/lib/python3.10/site-packages/sklearn/metrics/_classification.py:1509: UndefinedMetricWarning: Precision is ill-defined and being set to 0.0 in labels with no predicted samples. Use `zero_division` parameter to control this behavior.\n",
      "  _warn_prf(average, modifier, f\"{metric.capitalize()} is\", len(result))\n",
      "/work/van-speech-nlp/jindaznb/slamenv/lib/python3.10/site-packages/sklearn/metrics/_classification.py:1509: UndefinedMetricWarning: Precision is ill-defined and being set to 0.0 in labels with no predicted samples. Use `zero_division` parameter to control this behavior.\n",
      "  _warn_prf(average, modifier, f\"{metric.capitalize()} is\", len(result))\n",
      "/work/van-speech-nlp/jindaznb/slamenv/lib/python3.10/site-packages/sklearn/metrics/_classification.py:1509: UndefinedMetricWarning: Precision is ill-defined and being set to 0.0 in labels with no predicted samples. Use `zero_division` parameter to control this behavior.\n",
      "  _warn_prf(average, modifier, f\"{metric.capitalize()} is\", len(result))\n"
     ]
    }
   ],
   "source": [
    "model = LogisticRegression(max_iter=10)  # Increase max_iter if needed\n",
    "model.fit(X_train_tfidf, y_train)\n",
    "\n",
    "# Make predictions on the test set\n",
    "y_pred = model.predict(X_test_tfidf)\n",
    "\n",
    "# Evaluate the model\n",
    "accuracy = accuracy_score(y_test, y_pred)\n",
    "print(f\"Label Accuracy: {accuracy:.4f}\")\n",
    "print(\"\\nClassification Report:\\n\", classification_report(y_test, y_pred))"
   ]
  },
  {
   "cell_type": "markdown",
   "metadata": {},
   "source": [
    "The analysis reveals that while the classification model achieves a 60.10% accuracy, its performance is compromised by significant challenges in predicting minority classes, indicating potential inadequacies for business objectives. To improve feasibility, it is recommended to address class imbalance through oversampling, undersampling, or synthetic data generation, optimize model parameters to enhance convergence, and consider alternative algorithms that may better handle such imbalances. Additionally, refining feature engineering, implementing k-fold cross-validation for reliable performance assessment, and maintaining a process of continuous monitoring and iteration will be crucial. These steps will help ensure the model becomes a robust tool that meets the business's classification needs effectively."
   ]
  },
  {
   "cell_type": "code",
   "execution_count": null,
   "metadata": {},
   "outputs": [],
   "source": []
  }
 ],
 "metadata": {
  "kernelspec": {
   "display_name": "Python 3",
   "language": "python",
   "name": "python3"
  },
  "language_info": {
   "codemirror_mode": {
    "name": "ipython",
    "version": 3
   },
   "file_extension": ".py",
   "mimetype": "text/x-python",
   "name": "python",
   "nbconvert_exporter": "python",
   "pygments_lexer": "ipython3",
   "version": "3.10.14"
  },
  "orig_nbformat": 4
 },
 "nbformat": 4,
 "nbformat_minor": 2
}
